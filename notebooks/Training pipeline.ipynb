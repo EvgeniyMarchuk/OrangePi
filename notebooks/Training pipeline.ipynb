{
 "cells": [
  {
   "cell_type": "code",
   "execution_count": null,
   "metadata": {},
   "outputs": [],
   "source": [
    "import sys\n",
    "sys.path.insert(0, \"/home/m_evgeniy/DeepLearning/OrangePi\")\n",
    "\n",
    "from orangepi.imports import *\n",
    "from orangepi.__init__ import *\n",
    "from orangepi.dataset_utils import *\n",
    "from orangepi.model_utils import *"
   ]
  },
  {
   "cell_type": "markdown",
   "metadata": {},
   "source": [
    "# Выбираем модель"
   ]
  },
  {
   "cell_type": "markdown",
   "metadata": {},
   "source": [
    "## Segformer-B0"
   ]
  },
  {
   "cell_type": "code",
   "execution_count": null,
   "metadata": {},
   "outputs": [],
   "source": [
    "transform = None\n",
    "processor = SegformerImageProcessor.from_pretrained(\n",
    "    \"nvidia/segformer-b0-finetuned-ade-512-512\"\n",
    ")\n",
    "model = SegformerForSemanticSegmentation.from_pretrained(\n",
    "    \"nvidia/segformer-b0-finetuned-ade-512-512\",\n",
    "    num_labels=NUM_CLASSES,  # Меняем количество выходных классов\n",
    "    ignore_mismatched_sizes=True,  # Позволяет менять последний слой\n",
    ").to(DEVICE)\n",
    "\n",
    "model.decode_head.classifier = nn.Conv2d(256, NUM_CLASSES, kernel_size=1)\n",
    "torch.nn.init.xavier_uniform_(model.decode_head.classifier.weight)\n",
    "torch.nn.init.zeros_(model.decode_head.classifier.bias)\n",
    "\n",
    "model_type = \"segformer\""
   ]
  },
  {
   "cell_type": "markdown",
   "metadata": {},
   "source": [
    "## Deeplab v3"
   ]
  },
  {
   "cell_type": "code",
   "execution_count": null,
   "metadata": {},
   "outputs": [],
   "source": [
    "processor = None\n",
    "transform = T.Compose([T.Resize((1024, 1024)), T.ToTensor()])\n",
    "\n",
    "model = deeplab_model()\n",
    "model.classifier[4] = nn.Conv2d(256, NUM_CLASSES, kernel_size=1)\n",
    "model = model.to(DEVICE)\n",
    "\n",
    "model_type = \"deeplab\""
   ]
  },
  {
   "cell_type": "code",
   "execution_count": null,
   "metadata": {},
   "outputs": [],
   "source": [
    "# смотрим параметры модели\n",
    "summary(\n",
    "    model=model,\n",
    "    input_size=(1, 3, 1024, 1024),\n",
    "    col_names=[\"input_size\", \"output_size\", \"num_params\", \"trainable\"],\n",
    "    col_width=20,\n",
    "    row_settings=[\"var_names\"],\n",
    ")"
   ]
  },
  {
   "cell_type": "markdown",
   "metadata": {},
   "source": [
    "# Инициализируем датасет"
   ]
  },
  {
   "cell_type": "code",
   "execution_count": null,
   "metadata": {},
   "outputs": [],
   "source": [
    "dataset_path = Path(\"../data/DeepGlobeDataset/images_and_masks\")\n",
    "# создаем папки train, valid и test (расскоментировать при необходимости)\n",
    "# split_dataset(dataset_path)"
   ]
  },
  {
   "cell_type": "code",
   "execution_count": null,
   "metadata": {},
   "outputs": [],
   "source": [
    "train_dir = dataset_path / \"train\"\n",
    "valid_dir = dataset_path / \"valid\"\n",
    "test_dir = dataset_path / \"test\"\n",
    "\n",
    "train_dataset = DeepGlobeDataset(\n",
    "    train_dir, model_type, transform=transform, processor=processor, image_size=1024\n",
    ")\n",
    "valid_dataset = DeepGlobeDataset(\n",
    "    valid_dir, model_type, transform=transform, processor=processor, image_size=1024\n",
    ")\n",
    "test_dataset = DeepGlobeDataset(\n",
    "    test_dir, model_type, transform=transform, processor=processor, image_size=1024\n",
    ")\n",
    "\n",
    "train_loader = DataLoader(train_dataset, batch_size=8, shuffle=True)\n",
    "valid_loader = DataLoader(valid_dataset, batch_size=8, shuffle=True)\n",
    "test_loader  =  DataLoader(test_dataset, batch_size=8, shuffle=True)\n",
    "len(train_loader), len(valid_loader), len(test_loader)"
   ]
  },
  {
   "cell_type": "markdown",
   "metadata": {},
   "source": [
    "### Смотрим примеры картинок с которыми работаем"
   ]
  },
  {
   "cell_type": "code",
   "execution_count": null,
   "metadata": {},
   "outputs": [],
   "source": [
    "data = next(iter(train_loader))\n",
    "num_examples = 5\n",
    "\n",
    "fig, axes = plt.subplots(2, num_examples, figsize=(12, 8))\n",
    "\n",
    "images, masks = data\n",
    "for i in range(num_examples):\n",
    "    axes[0, i].imshow(images[i].permute(1, 2, 0))\n",
    "    axes[0, i].set_title(\"Image\")\n",
    "    axes[1, i].imshow(masks[i])\n",
    "    axes[1, i].set_title(\"Mask\")"
   ]
  },
  {
   "cell_type": "markdown",
   "metadata": {},
   "source": [
    "# Обучение"
   ]
  },
  {
   "cell_type": "code",
   "execution_count": null,
   "metadata": {},
   "outputs": [],
   "source": [
    "epochs = 10\n",
    "lr = 1e-3\n",
    "\n",
    "# Запускаем обучение\n",
    "model_save_name = \"DeeplabV3_DeepGlobe_V1\"\n",
    "assert model_save_name is not None, \"Enter model's name for saving\"\n",
    "\n",
    "criterion = nn.CrossEntropyLoss()\n",
    "best_model, loss_history, iou_score_history, dice_score_history = train(\n",
    "    model,\n",
    "    train_loader,\n",
    "    valid_loader,\n",
    "    criterion,\n",
    "    lr,\n",
    "    epochs,\n",
    "    model_type,\n",
    "    verbose=True,\n",
    "    is_scheduler=False,\n",
    ")\n",
    "\n",
    "# --- 6. Сохранение модели ---\n",
    "torch.save(best_model.state_dict(), f\"../models/{model_save_name}.pth\")\n",
    "print(\"Модель сохранена!\")"
   ]
  },
  {
   "cell_type": "code",
   "execution_count": null,
   "metadata": {},
   "outputs": [],
   "source": [
    "visualize_losses_and_scores(loss_history, iou_score_history, dice_score_history)"
   ]
  }
 ],
 "metadata": {
  "kernelspec": {
   "display_name": "venv",
   "language": "python",
   "name": "python3"
  },
  "language_info": {
   "codemirror_mode": {
    "name": "ipython",
    "version": 3
   },
   "file_extension": ".py",
   "mimetype": "text/x-python",
   "name": "python",
   "nbconvert_exporter": "python",
   "pygments_lexer": "ipython3",
   "version": "3.12.8"
  }
 },
 "nbformat": 4,
 "nbformat_minor": 2
}
