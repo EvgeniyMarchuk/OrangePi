{
 "cells": [
  {
   "cell_type": "code",
   "execution_count": 7,
   "metadata": {},
   "outputs": [
    {
     "name": "stdout",
     "output_type": "stream",
     "text": [
      "The autoreload extension is already loaded. To reload it, use:\n",
      "  %reload_ext autoreload\n"
     ]
    }
   ],
   "source": [
    "import sys\n",
    "sys.path.insert(0, \"/home/user/Projects/OrangePi\")\n",
    "\n",
    "%load_ext autoreload\n",
    "%autoreload 2\n",
    "\n",
    "from orangepi.imports import *\n",
    "from orangepi.__init__ import *\n",
    "from orangepi.dataset_utils import split_dataset, DeepGlobeDataset\n",
    "from orangepi.model_utils import *\n"
   ]
  },
  {
   "cell_type": "code",
   "execution_count": 8,
   "metadata": {},
   "outputs": [],
   "source": [
    "transform = None\n",
    "# Load model directly\n",
    "from transformers import AutoImageProcessor, SegformerForSemanticSegmentation\n",
    "\n",
    "processor = AutoImageProcessor.from_pretrained(\"nvidia/segformer-b1-finetuned-cityscapes-1024-1024\", \n",
    "                                                size={\"height\": 512, \"width\": 512})\n",
    "model = SegformerForSemanticSegmentation.from_pretrained(\"nvidia/segformer-b1-finetuned-cityscapes-1024-1024\")\n",
    "\n",
    "model.decode_head.classifier = nn.Conv2d(256, NUM_CLASSES, kernel_size=1)\n",
    "torch.nn.init.xavier_uniform_(model.decode_head.classifier.weight)\n",
    "torch.nn.init.zeros_(model.decode_head.classifier.bias)\n",
    "\n",
    "model_type = \"segformer\""
   ]
  },
  {
   "cell_type": "code",
   "execution_count": 3,
   "metadata": {},
   "outputs": [
    {
     "data": {
      "text/plain": [
       "===========================================================================================================================================================\n",
       "Layer (type (var_name))                                                     Input Shape          Output Shape         Param #              Trainable\n",
       "===========================================================================================================================================================\n",
       "SegformerForSemanticSegmentation (SegformerForSemanticSegmentation)         [1, 3, 1024, 1024]   [1, 1, 256, 256]     --                   True\n",
       "├─SegformerModel (segformer)                                                [1, 3, 1024, 1024]   [1, 64, 256, 256]    --                   True\n",
       "│    └─SegformerEncoder (encoder)                                           [1, 3, 1024, 1024]   [1, 64, 256, 256]    --                   True\n",
       "│    │    └─ModuleList (patch_embeddings)                                   --                   --                   (recursive)          True\n",
       "│    │    └─ModuleList (block)                                              --                   --                   (recursive)          True\n",
       "│    │    └─ModuleList (layer_norm)                                         --                   --                   (recursive)          True\n",
       "│    │    └─ModuleList (patch_embeddings)                                   --                   --                   (recursive)          True\n",
       "│    │    └─ModuleList (block)                                              --                   --                   (recursive)          True\n",
       "│    │    └─ModuleList (layer_norm)                                         --                   --                   (recursive)          True\n",
       "│    │    └─ModuleList (patch_embeddings)                                   --                   --                   (recursive)          True\n",
       "│    │    └─ModuleList (block)                                              --                   --                   (recursive)          True\n",
       "│    │    └─ModuleList (layer_norm)                                         --                   --                   (recursive)          True\n",
       "│    │    └─ModuleList (patch_embeddings)                                   --                   --                   (recursive)          True\n",
       "│    │    └─ModuleList (block)                                              --                   --                   (recursive)          True\n",
       "│    │    └─ModuleList (layer_norm)                                         --                   --                   (recursive)          True\n",
       "├─SegformerDecodeHead (decode_head)                                         [1, 64, 256, 256]    [1, 1, 256, 256]     --                   True\n",
       "│    └─ModuleList (linear_c)                                                --                   --                   --                   True\n",
       "│    │    └─SegformerMLP (0)                                                [1, 64, 256, 256]    [1, 65536, 256]      16,640               True\n",
       "│    │    └─SegformerMLP (1)                                                [1, 128, 128, 128]   [1, 16384, 256]      33,024               True\n",
       "│    │    └─SegformerMLP (2)                                                [1, 320, 64, 64]     [1, 4096, 256]       82,176               True\n",
       "│    │    └─SegformerMLP (3)                                                [1, 512, 32, 32]     [1, 1024, 256]       131,328              True\n",
       "│    └─Conv2d (linear_fuse)                                                 [1, 1024, 256, 256]  [1, 256, 256, 256]   262,144              True\n",
       "│    └─BatchNorm2d (batch_norm)                                             [1, 256, 256, 256]   [1, 256, 256, 256]   512                  True\n",
       "│    └─ReLU (activation)                                                    [1, 256, 256, 256]   [1, 256, 256, 256]   --                   --\n",
       "│    └─Dropout (dropout)                                                    [1, 256, 256, 256]   [1, 256, 256, 256]   --                   --\n",
       "│    └─Conv2d (classifier)                                                  [1, 256, 256, 256]   [1, 1, 256, 256]     257                  True\n",
       "===========================================================================================================================================================\n",
       "Total params: 13,677,505\n",
       "Trainable params: 13,677,505\n",
       "Non-trainable params: 0\n",
       "Total mult-adds (Units.GIGABYTES): 24.62\n",
       "===========================================================================================================================================================\n",
       "Input size (MB): 12.58\n",
       "Forward/backward pass size (MB): 2382.89\n",
       "Params size (MB): 54.71\n",
       "Estimated Total Size (MB): 2450.18\n",
       "==========================================================================================================================================================="
      ]
     },
     "execution_count": 3,
     "metadata": {},
     "output_type": "execute_result"
    }
   ],
   "source": [
    "# смотрим параметры модели\n",
    "summary(\n",
    "    model=model,\n",
    "    input_size=(1, 3, 1024, 1024),\n",
    "    col_names=[\"input_size\", \"output_size\", \"num_params\", \"trainable\"],\n",
    "    col_width=20,\n",
    "    row_settings=[\"var_names\"],\n",
    ")"
   ]
  },
  {
   "cell_type": "code",
   "execution_count": 9,
   "metadata": {},
   "outputs": [
    {
     "data": {
      "text/plain": [
       "(2179, 312, 623)"
      ]
     },
     "execution_count": 9,
     "metadata": {},
     "output_type": "execute_result"
    }
   ],
   "source": [
    "dataset_path = Path(\"../data/DeepGlobeDataset/\")\n",
    "train_dir = dataset_path / \"train\"\n",
    "valid_dir = dataset_path / \"valid\"\n",
    "test_dir = dataset_path / \"test\"\n",
    "\n",
    "train_dataset = DeepGlobeDataset(\n",
    "    train_dir, model_type, transforms=transform, processor=processor, image_size=1024\n",
    ")\n",
    "valid_dataset = DeepGlobeDataset(\n",
    "    valid_dir, model_type, transforms=transform, processor=processor, image_size=1024\n",
    ")\n",
    "test_dataset = DeepGlobeDataset(\n",
    "    test_dir, model_type, transforms=transform, processor=processor, image_size=1024\n",
    ")\n",
    "\n",
    "train_loader = DataLoader(train_dataset, batch_size=2, shuffle=True)\n",
    "valid_loader = DataLoader(valid_dataset, batch_size=2, shuffle=True)\n",
    "test_loader  =  DataLoader(test_dataset, batch_size=2, shuffle=True)\n",
    "len(train_loader), len(valid_loader), len(test_loader)"
   ]
  },
  {
   "cell_type": "code",
   "execution_count": 1,
   "metadata": {},
   "outputs": [
    {
     "ename": "NameError",
     "evalue": "name 'nn' is not defined",
     "output_type": "error",
     "traceback": [
      "\u001b[0;31m---------------------------------------------------------------------------\u001b[0m",
      "\u001b[0;31mNameError\u001b[0m                                 Traceback (most recent call last)",
      "Cell \u001b[0;32mIn[1], line 8\u001b[0m\n\u001b[1;32m      5\u001b[0m model_save_name \u001b[38;5;241m=\u001b[39m \u001b[38;5;124m\"\u001b[39m\u001b[38;5;124mSegformerB0_DeepGlobe_V1\u001b[39m\u001b[38;5;124m\"\u001b[39m\n\u001b[1;32m      6\u001b[0m \u001b[38;5;28;01massert\u001b[39;00m model_save_name \u001b[38;5;129;01mis\u001b[39;00m \u001b[38;5;129;01mnot\u001b[39;00m \u001b[38;5;28;01mNone\u001b[39;00m, \u001b[38;5;124m\"\u001b[39m\u001b[38;5;124mEnter model\u001b[39m\u001b[38;5;124m'\u001b[39m\u001b[38;5;124ms name for saving\u001b[39m\u001b[38;5;124m\"\u001b[39m\n\u001b[0;32m----> 8\u001b[0m criterion \u001b[38;5;241m=\u001b[39m \u001b[43mnn\u001b[49m\u001b[38;5;241m.\u001b[39mBCEWithLogitsLoss()\n\u001b[1;32m      9\u001b[0m best_model, loss_history, iou_score_history \u001b[38;5;241m=\u001b[39m train(\n\u001b[1;32m     10\u001b[0m     model,\n\u001b[1;32m     11\u001b[0m     train_loader,\n\u001b[0;32m   (...)\u001b[0m\n\u001b[1;32m     18\u001b[0m     is_scheduler\u001b[38;5;241m=\u001b[39m\u001b[38;5;28;01mFalse\u001b[39;00m,\n\u001b[1;32m     19\u001b[0m )\n\u001b[1;32m     21\u001b[0m \u001b[38;5;66;03m# --- 6. Сохранение модели ---\u001b[39;00m\n",
      "\u001b[0;31mNameError\u001b[0m: name 'nn' is not defined"
     ]
    }
   ],
   "source": [
    "epochs = 10\n",
    "lr = 1e-3\n",
    "\n",
    "# Запускаем обучение\n",
    "model_save_name = \"SegformerB0_DeepGlobe_V1\"\n",
    "assert model_save_name is not None, \"Enter model's name for saving\"\n",
    "\n",
    "criterion = nn.BCEWithLogitsLoss()\n",
    "best_model, loss_history, iou_score_history = train(\n",
    "    model,\n",
    "    train_loader,\n",
    "    valid_loader,\n",
    "    criterion,\n",
    "    lr,\n",
    "    epochs,\n",
    "    model_type,\n",
    "    verbose=True,\n",
    "    is_scheduler=False,\n",
    ")\n",
    "\n",
    "# --- 6. Сохранение модели ---\n",
    "torch.save(best_model.state_dict(), f\"../models/{model_save_name}.pth\")\n",
    "print(\"Модель сохранена!\")"
   ]
  },
  {
   "cell_type": "code",
   "execution_count": null,
   "metadata": {},
   "outputs": [
    {
     "name": "stdout",
     "output_type": "stream",
     "text": [
      "Recall: 0.8\n"
     ]
    }
   ],
   "source": []
  },
  {
   "cell_type": "code",
   "execution_count": null,
   "metadata": {},
   "outputs": [],
   "source": []
  }
 ],
 "metadata": {
  "kernelspec": {
   "display_name": "venv",
   "language": "python",
   "name": "python3"
  },
  "language_info": {
   "codemirror_mode": {
    "name": "ipython",
    "version": 3
   },
   "file_extension": ".py",
   "mimetype": "text/x-python",
   "name": "python",
   "nbconvert_exporter": "python",
   "pygments_lexer": "ipython3",
   "version": "3.12.3"
  }
 },
 "nbformat": 4,
 "nbformat_minor": 2
}
